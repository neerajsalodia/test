{
 "metadata": {
  "language_info": {
   "codemirror_mode": {
    "name": "ipython",
    "version": 3
   },
   "file_extension": ".py",
   "mimetype": "text/x-python",
   "name": "python",
   "nbconvert_exporter": "python",
   "pygments_lexer": "ipython3",
   "version": "3.6.10-final"
  },
  "orig_nbformat": 2,
  "kernelspec": {
   "name": "python_defaultSpec_1598868210315",
   "display_name": "Python 3.6.10 64-bit ('deeplearn': conda)"
  }
 },
 "nbformat": 4,
 "nbformat_minor": 2,
 "cells": [
  {
   "cell_type": "markdown",
   "metadata": {},
   "source": [
    "### Write a function so that the columns of the output matrix are powers of the input vector.\n",
    "\n",
    "### The order of the powers is determined by the increasing boolean argument. Specifically, when increasing is False, the i-th output column is the input vector raised element-wise to the power of N - i - 1."
   ]
  },
  {
   "cell_type": "code",
   "execution_count": 23,
   "metadata": {
    "tags": []
   },
   "outputs": [
    {
     "output_type": "stream",
     "name": "stdout",
     "text": "[[  1   1   1   1]\n [  8   4   2   1]\n [ 27   9   3   1]\n [ 64  16   4   1]\n [125  25   5   1]]\n[[   1    1    1    1    1]\n [   1    2    4    8   16]\n [   1    3    9   27   81]\n [   1    4   16   64  256]\n [   1    5   25  125  625]\n [   1    6   36  216 1296]]\n"
    }
   ],
   "source": [
    "import numpy as np\n",
    "\n",
    "def MyVander(X,N, increasing=False):\n",
    "    mat = np.empty_like(X)\n",
    "    X = np.array(X).T\n",
    "    if (not increasing):\n",
    "        for i in range(N):\n",
    "            mat = np.c_[mat, X**(N-i-1)]\n",
    "        return np.delete(mat, 0, axis=1)\n",
    "    else:\n",
    "        for i in range(N):\n",
    "            mat = np.c_[X**(N-i-1), mat]        \n",
    "        return np.delete(mat, -1, axis=1)\n",
    "    \n",
    "print(MyVander([1,2,3,4,5], 4, False))\n",
    "print(MyVander([1,2,3,4,5,6], 5, True))\n"
   ]
  },
  {
   "cell_type": "markdown",
   "metadata": {},
   "source": [
    "### Write a function to find moving average in an array over a window. Test it over `[3, 5, 7, 2, 8, 10, 11, 65, 72, 81, 99, 100, 150]` and window of 3."
   ]
  },
  {
   "cell_type": "code",
   "execution_count": 54,
   "metadata": {
    "tags": []
   },
   "outputs": [
    {
     "output_type": "stream",
     "name": "stdout",
     "text": "Length of input array:  13\nLength of moving average array:  11\n"
    },
    {
     "output_type": "execute_result",
     "data": {
      "text/plain": "array([  5.        ,   4.66666667,   5.66666667,   6.66666667,\n         9.66666667,  28.66666667,  49.33333333,  72.66666667,\n        84.        ,  93.33333333, 116.33333333])"
     },
     "metadata": {},
     "execution_count": 54
    }
   ],
   "source": [
    "def SMA(X, N):    \n",
    "    arr = np.zeros(len(X)-N+1)    \n",
    "    for i in range(len(arr)):\n",
    "        arr[i] = np.sum(X[i:i+N])/ float(N)      \n",
    "    print(\"Length of input array: \", len(X))\n",
    "    print(\"Length of moving average array: \",len(arr))  \n",
    "    return arr\n",
    "    \n",
    "SMA(np.array([3, 5, 7, 2, 8, 10, 11, 65, 72, 81, 99, 100, 150]), 3)\n"
   ]
  },
  {
   "cell_type": "code",
   "execution_count": null,
   "metadata": {},
   "outputs": [],
   "source": []
  }
 ]
}