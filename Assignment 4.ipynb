{
 "cells": [
  {
   "cell_type": "markdown",
   "metadata": {},
   "source": [
    "## 1.1 Write a python program, with class concepts, to find the area of the triangle using the given formula. Function to take the length of the sides of the triangle from the user should be defined in the parent class and function to calculate the area should be defined in the subclass."
   ]
  },
  {
   "cell_type": "code",
   "execution_count": 25,
   "metadata": {},
   "outputs": [],
   "source": [
    "class Parent:\n",
    "    def __init__(self, a=0, b=0, c=0):\n",
    "        self.a = a\n",
    "        self.b = b\n",
    "        self.c = c\n",
    "        \n",
    "    def GetInputs(self):\n",
    "        self.a = float(input(\" Enter side 1 : \"))\n",
    "        print()\n",
    "        self.b = float(input(\" Enter side 2: \"))\n",
    "        print()\n",
    "        self.c = float(input(\" Enter side 3 :\"))\n",
    "        print()\n",
    "\n",
    "    "
   ]
  },
  {
   "cell_type": "code",
   "execution_count": 30,
   "metadata": {},
   "outputs": [],
   "source": [
    "import numpy as np\n",
    "\n",
    "class Child(Parent):\n",
    "    \n",
    "    def __init__(self):\n",
    "        super().__init__()\n",
    "        super().GetInputs()\n",
    "        \n",
    "    def Area(self):\n",
    "        p = (self.a + self.b + self.c) / 2.0        \n",
    "        area = np.sqrt(p * (p-self.a) * (p-self.b) * (p-self.c))\n",
    "        return area\n"
   ]
  },
  {
   "cell_type": "code",
   "execution_count": 31,
   "metadata": {},
   "outputs": [
    {
     "name": "stdin",
     "output_type": "stream",
     "text": [
      " Enter side 1 :  3\n"
     ]
    },
    {
     "name": "stdout",
     "output_type": "stream",
     "text": [
      "\n"
     ]
    },
    {
     "name": "stdin",
     "output_type": "stream",
     "text": [
      " Enter side 2:  4\n"
     ]
    },
    {
     "name": "stdout",
     "output_type": "stream",
     "text": [
      "\n"
     ]
    },
    {
     "name": "stdin",
     "output_type": "stream",
     "text": [
      " Enter side 3 : 5\n"
     ]
    },
    {
     "name": "stdout",
     "output_type": "stream",
     "text": [
      "\n",
      "The area of the triangle is:  6.0\n"
     ]
    }
   ],
   "source": [
    "f = Child()\n",
    "print(\"The area of the triangle is: \", f.Area())"
   ]
  },
  {
   "cell_type": "markdown",
   "metadata": {},
   "source": [
    "## 1.2 Write a function filter_long_words() that takes a list of words and an integer n and returns the list of words that are longer than n."
   ]
  },
  {
   "cell_type": "code",
   "execution_count": 35,
   "metadata": {},
   "outputs": [
    {
     "name": "stdout",
     "output_type": "stream",
     "text": [
      "['waiting', 'chance']\n"
     ]
    }
   ],
   "source": [
    "def filter_long_words(lst, n):\n",
    "    a = []\n",
    "    for word in lst:\n",
    "        if len(word) > n:            \n",
    "            a.append(word)\n",
    "    \n",
    "    return a\n",
    "\n",
    "l = [\"Hello\", \"World\", \"I\", \"have\", \"been\", \"waiting\", \"for\", \"a\", \"chance\", \"to\", \"see\", \"your\", \"face\"]\n",
    "print(filter_long_words(l, 5))"
   ]
  },
  {
   "cell_type": "markdown",
   "metadata": {},
   "source": [
    "## 2.1 Write a Python program using function concept that maps list of words into a list of integers representing the lengths of the corresponding words."
   ]
  },
  {
   "cell_type": "code",
   "execution_count": 37,
   "metadata": {},
   "outputs": [
    {
     "name": "stdout",
     "output_type": "stream",
     "text": [
      "[5, 5, 4, 2, 3, 3]\n"
     ]
    }
   ],
   "source": [
    "def myFunc(lst):\n",
    "    a = []\n",
    "    for word in lst:\n",
    "        a.append(len(word))\n",
    "    return a\n",
    "\n",
    "l = [\"Hello\", \"World\", \"good\", \"to\", \"see\", \"you\"]\n",
    "print(myFunc(l))"
   ]
  },
  {
   "cell_type": "markdown",
   "metadata": {},
   "source": [
    "## 2.2 Write a Python function which takes a character (i.e. a string of length 1) and returns True if it is a vowel, False otherwise."
   ]
  },
  {
   "cell_type": "code",
   "execution_count": 38,
   "metadata": {},
   "outputs": [],
   "source": [
    "def IsVowel(char):\n",
    "    vowels = ['a', 'e', 'i', 'o', 'u']\n",
    "    if char in vowels:\n",
    "        return True\n",
    "    else: return False"
   ]
  },
  {
   "cell_type": "code",
   "execution_count": 41,
   "metadata": {},
   "outputs": [
    {
     "name": "stdin",
     "output_type": "stream",
     "text": [
      "Please input a single character:  a\n"
     ]
    },
    {
     "name": "stdout",
     "output_type": "stream",
     "text": [
      "The character is a vowel!\n"
     ]
    }
   ],
   "source": [
    "c = input(\"Please input a single character: \")\n",
    "if len(c) > 1:\n",
    "    print(\"Error: Please input single character only. Please run the program again!\")\n",
    "elif IsVowel(c):\n",
    "    print(\"The character is a vowel!\")\n",
    "else:\n",
    "    print(\"The character is not a vowel!\")\n"
   ]
  },
  {
   "cell_type": "code",
   "execution_count": null,
   "metadata": {},
   "outputs": [],
   "source": []
  }
 ],
 "metadata": {
  "kernelspec": {
   "display_name": "Python 3.6.8 64-bit ('idp': conda)",
   "language": "python",
   "name": "python36864bitidpcondaf55d03f9839340079e239eb56e0fc7fb"
  },
  "language_info": {
   "codemirror_mode": {
    "name": "ipython",
    "version": 3
   },
   "file_extension": ".py",
   "mimetype": "text/x-python",
   "name": "python",
   "nbconvert_exporter": "python",
   "pygments_lexer": "ipython3",
   "version": "3.6.8"
  }
 },
 "nbformat": 4,
 "nbformat_minor": 4
}
